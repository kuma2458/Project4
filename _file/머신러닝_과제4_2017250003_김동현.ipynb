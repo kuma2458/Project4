{
  "nbformat": 4,
  "nbformat_minor": 0,
  "metadata": {
    "kernelspec": {
      "display_name": "Python 3",
      "language": "python",
      "name": "python3"
    },
    "language_info": {
      "codemirror_mode": {
        "name": "ipython",
        "version": 3
      },
      "file_extension": ".py",
      "mimetype": "text/x-python",
      "name": "python",
      "nbconvert_exporter": "python",
      "pygments_lexer": "ipython3",
      "version": "3.8.5"
    },
    "nav_menu": {},
    "toc": {
      "navigate_menu": true,
      "number_sections": true,
      "sideBar": true,
      "threshold": 6,
      "toc_cell": false,
      "toc_section_display": "block",
      "toc_window_display": false
    },
    "colab": {
      "name": "머신러닝 과제4 2017250003 김동현.ipynb",
      "provenance": [],
      "collapsed_sections": []
    }
  },
  "cells": [
    {
      "cell_type": "markdown",
      "metadata": {
        "id": "DpCiTnIXM5fx"
      },
      "source": [
        "# 4장 모델 훈련"
      ]
    },
    {
      "cell_type": "markdown",
      "metadata": {
        "id": "KMuIQV58M5f0"
      },
      "source": [
        "## 기본 설정"
      ]
    },
    {
      "cell_type": "markdown",
      "metadata": {
        "id": "lWg5SODjM5f0"
      },
      "source": [
        "- 필수 모듈 불러오기\n",
        "- 그래프 출력 관련 기본 설정 지정"
      ]
    },
    {
      "cell_type": "code",
      "metadata": {
        "id": "e-Y0Yyq1M5f0"
      },
      "source": [
        "# 파이썬 ≥3.5 필수\n",
        "import sys\n",
        "assert sys.version_info >= (3, 5)\n",
        "\n",
        "# 사이킷런 ≥0.20 필수\n",
        "import sklearn\n",
        "assert sklearn.__version__ >= \"0.20\"\n",
        "\n",
        "# 공통 모듈 임포트\n",
        "import numpy as np\n",
        "import os\n",
        "\n",
        "# 노트북 실행 결과를 동일하게 유지하기 위해\n",
        "np.random.seed(42)\n"
      ],
      "execution_count": null,
      "outputs": []
    },
    {
      "cell_type": "code",
      "metadata": {
        "id": "aRW4VYNOXwCA"
      },
      "source": [
        "from sklearn import datasets\n",
        "iris = datasets.load_iris()"
      ],
      "execution_count": null,
      "outputs": []
    },
    {
      "cell_type": "markdown",
      "metadata": {
        "id": "gyqMqpRGM5go"
      },
      "source": [
        "## 과제 1"
      ]
    },
    {
      "cell_type": "markdown",
      "metadata": {
        "id": "q9VRILmXM5go"
      },
      "source": [
        "조기 종료를 사용한 배치 경사 하강법으로 로지스틱 회귀를 구현하라.\n",
        "단, 사이킷런을 전혀 사용하지 않아야 한다."
      ]
    },
    {
      "cell_type": "markdown",
      "metadata": {
        "id": "mZJX8XXDYYek"
      },
      "source": [
        "기본 설정"
      ]
    },
    {
      "cell_type": "markdown",
      "metadata": {
        "id": "tk5in_ftYkXD"
      },
      "source": [
        "### __1. 데이터 준비__"
      ]
    },
    {
      "cell_type": "code",
      "metadata": {
        "id": "Jg-Y7yEEXwLX"
      },
      "source": [
        "X = iris[\"data\"][:, 2:]  #꽃잎 길이\n",
        "y = (iris[\"target\"]==0).astype(np.int) #세토사를 타겟으로 설정"
      ],
      "execution_count": null,
      "outputs": []
    },
    {
      "cell_type": "markdown",
      "metadata": {
        "id": "H-1-oXdg6BnZ"
      },
      "source": [
        "편향에 특성 추가"
      ]
    },
    {
      "cell_type": "code",
      "metadata": {
        "id": "UjRhjtNQd-xg"
      },
      "source": [
        "X_with_bias = np.c_[np.ones([len(X), 1]), X]"
      ],
      "execution_count": null,
      "outputs": []
    },
    {
      "cell_type": "markdown",
      "metadata": {
        "id": "pXIGOuBrZKYE"
      },
      "source": [
        "결과를 일정하게 유지하기 위해 랜덤 시드를 지정한다."
      ]
    },
    {
      "cell_type": "code",
      "metadata": {
        "id": "tlQuH2GKZKYE"
      },
      "source": [
        "np.random.seed(2042)"
      ],
      "execution_count": null,
      "outputs": []
    },
    {
      "cell_type": "markdown",
      "metadata": {
        "id": "qdvU2XzFZKYE"
      },
      "source": [
        "### __단계 2: 데이터셋 분할__ \n",
        "\n",
        "데이터셋을 훈련, 검증, 테스트 용도로 6대 2대 2의 비율로 무작위로 분할한다."
      ]
    },
    {
      "cell_type": "code",
      "metadata": {
        "id": "V9aUcxR0ZKYE"
      },
      "source": [
        "test_ratio = 0.2                                         # 테스트 세트 비율 = 20%\n",
        "validation_ratio = 0.2                                   # 검증 세트 비율 = 20%\n",
        "total_size = len(X_with_bias)                            # 전체 데이터셋 크기\n",
        "\n",
        "test_size = int(total_size * test_ratio)                 # 테스트 세트 크기: 전체의 20%\n",
        "validation_size = int(total_size * validation_ratio)     # 검증 세트 크기: 전체의 20%\n",
        "train_size = total_size - test_size - validation_size    # 훈련 세트 크기: 전체의 60%"
      ],
      "execution_count": null,
      "outputs": []
    },
    {
      "cell_type": "markdown",
      "metadata": {
        "id": "dkrQwI3jZKYF"
      },
      "source": [
        "`np.random.permutation()` 함수를 이용하여 인덱스를 무작위로 섞는다. "
      ]
    },
    {
      "cell_type": "code",
      "metadata": {
        "id": "8oLhy_1nZKYF"
      },
      "source": [
        "rnd_indices = np.random.permutation(total_size)"
      ],
      "execution_count": null,
      "outputs": []
    },
    {
      "cell_type": "markdown",
      "metadata": {
        "id": "kKGGIlFDZKYF"
      },
      "source": [
        "훈련 세트, 검증 세트, 테스트 세트를 각 6:2:2 비율로 나눈다."
      ]
    },
    {
      "cell_type": "code",
      "metadata": {
        "id": "zf1QuhnpZKYF"
      },
      "source": [
        "X_train = X_with_bias[rnd_indices[:train_size]]\n",
        "y_train = y[rnd_indices[:train_size]]\n",
        "\n",
        "X_valid = X_with_bias[rnd_indices[train_size:-test_size]]\n",
        "y_valid = y[rnd_indices[train_size:-test_size]]\n",
        "\n",
        "X_test = X_with_bias[rnd_indices[-test_size:]]\n",
        "y_test = y[rnd_indices[-test_size:]]"
      ],
      "execution_count": null,
      "outputs": []
    },
    {
      "cell_type": "markdown",
      "metadata": {
        "id": "BUkaCQWFV1O8"
      },
      "source": [
        "### __단계 3: 타깃 변환__ \n",
        "\n"
      ]
    },
    {
      "cell_type": "markdown",
      "metadata": {
        "id": "8k9WX13PPEgL"
      },
      "source": [
        "타깃은 0, 1로 설정되어 있다. 타겟으로 설정한 세토사는 1로, 나머지 버시컬러, 버지니카는 0으로 나온다.\n",
        "훈련 세트의 첫 5개 샘플의 품종은 다음과 같다."
      ]
    },
    {
      "cell_type": "code",
      "metadata": {
        "colab": {
          "base_uri": "https://localhost:8080/"
        },
        "id": "9SONDn5HV1O8",
        "outputId": "94fc5728-53f3-4af4-c476-2955e5ee5636"
      },
      "source": [
        "y_train[:5]"
      ],
      "execution_count": null,
      "outputs": [
        {
          "output_type": "execute_result",
          "data": {
            "text/plain": [
              "array([0, 0, 1, 0, 0])"
            ]
          },
          "metadata": {
            "tags": []
          },
          "execution_count": 471
        }
      ]
    },
    {
      "cell_type": "markdown",
      "metadata": {
        "id": "zcbtcYBIV1O9"
      },
      "source": [
        "원-핫 인코딩 사용\n"
      ]
    },
    {
      "cell_type": "code",
      "metadata": {
        "id": "UCyPvGwLV1O9"
      },
      "source": [
        "def to_one_hot(y):\n",
        "    n_classes = y.max() + 1                 # 클래스 수\n",
        "    m = len(y)                              # 샘플 수\n",
        "    Y_one_hot = np.zeros((m, n_classes))    # (샘플 수, 클래스 수) 0-벡터 생성\n",
        "    Y_one_hot[np.arange(m), y] = 1          # 샘플 별로 해당 클래스의 값만 1로 변경. (넘파이 인덱싱 활용)\n",
        "    return Y_one_hot"
      ],
      "execution_count": null,
      "outputs": []
    },
    {
      "cell_type": "markdown",
      "metadata": {
        "id": "ZEV5FJWtV1O9"
      },
      "source": [
        "샘플 5개에 대해 잘 작동하는 것을 확인할 수 있다."
      ]
    },
    {
      "cell_type": "code",
      "metadata": {
        "colab": {
          "base_uri": "https://localhost:8080/"
        },
        "id": "QvN5gEkGV1O-",
        "outputId": "eccbe2b4-6e3f-4759-8bb9-1bc07292b499"
      },
      "source": [
        "y_train[:5]"
      ],
      "execution_count": null,
      "outputs": [
        {
          "output_type": "execute_result",
          "data": {
            "text/plain": [
              "array([0, 0, 1, 0, 0])"
            ]
          },
          "metadata": {
            "tags": []
          },
          "execution_count": 473
        }
      ]
    },
    {
      "cell_type": "code",
      "metadata": {
        "colab": {
          "base_uri": "https://localhost:8080/"
        },
        "id": "W24yAnTdV1O-",
        "outputId": "1a582185-164c-4111-a475-7072106a1feb"
      },
      "source": [
        "to_one_hot(y_train[:5])"
      ],
      "execution_count": null,
      "outputs": [
        {
          "output_type": "execute_result",
          "data": {
            "text/plain": [
              "array([[1., 0.],\n",
              "       [1., 0.],\n",
              "       [0., 1.],\n",
              "       [1., 0.],\n",
              "       [1., 0.]])"
            ]
          },
          "metadata": {
            "tags": []
          },
          "execution_count": 474
        }
      ]
    },
    {
      "cell_type": "markdown",
      "metadata": {
        "id": "K82nZohmV1O-"
      },
      "source": [
        "이제 훈련/검증/테스트 세트의 타깃을 모두 원-핫 벡터로 변환한다."
      ]
    },
    {
      "cell_type": "code",
      "metadata": {
        "id": "sZegoE-8V1O-"
      },
      "source": [
        "Y_train_one_hot = to_one_hot(y_train)\n",
        "Y_valid_one_hot = to_one_hot(y_valid)\n",
        "Y_test_one_hot = to_one_hot(y_test)"
      ],
      "execution_count": null,
      "outputs": []
    },
    {
      "cell_type": "markdown",
      "metadata": {
        "id": "dqsebBj6V1O-"
      },
      "source": [
        "### __단계 4: 로지스틱 함수 구현__ \n",
        "\n"
      ]
    },
    {
      "cell_type": "markdown",
      "metadata": {
        "id": "ouWpdIJeGQa4"
      },
      "source": [
        "아래처럼 정의된 로지스틱 함수를 파이썬 함수로 구현한다. \n",
        "\n",
        "$$\n",
        "\\sigma(\\mathbf{t})\n",
        "= \\dfrac{1}{{1}+{e}^{-t}}\n",
        "$$\n"
      ]
    },
    {
      "cell_type": "code",
      "metadata": {
        "id": "SvSL6vbZV1O_"
      },
      "source": [
        "def sigmoid(x):\n",
        "    return 1/(1+np.exp(-x))"
      ],
      "execution_count": null,
      "outputs": []
    },
    {
      "cell_type": "markdown",
      "metadata": {
        "id": "VZ4zfoufV1O_"
      },
      "source": [
        "### __단계 5: 경사하강법 활용 훈련__ "
      ]
    },
    {
      "cell_type": "markdown",
      "metadata": {
        "id": "ScSlmQkdV1O_"
      },
      "source": [
        "소프트맥스의 비용함수에서 k가 2일 경우 로지스틱 회귀의 비용함수와 같기때문에 수정하지 않고 그대로 사용하였다."
      ]
    },
    {
      "cell_type": "markdown",
      "metadata": {
        "id": "Axhv8hs5V1PA"
      },
      "source": [
        "이제 훈련 코드를 작성할 수 있다.\n",
        "클래스별 파라미터로 이루어진 $(n+1, K)$ 행렬 모양의 2차원 넘파이 어레이 $\\Theta$를 \n",
        "생성하기 위해 $n$과 $K$를 확인한다."
      ]
    },
    {
      "cell_type": "code",
      "metadata": {
        "id": "T5It_D3sV1PA"
      },
      "source": [
        "n_inputs = X_train.shape[1]           # 특성 수(n) + 1, 붓꽃의 경우: 특성 2개 + 1\n",
        "n_outputs = len(np.unique(y_train))   # 중복을 제거한 클래스 수(K), 붓꽃의 경우: 3개"
      ],
      "execution_count": null,
      "outputs": []
    },
    {
      "cell_type": "code",
      "metadata": {
        "colab": {
          "base_uri": "https://localhost:8080/"
        },
        "id": "ASMI3Kg7dHTC",
        "outputId": "595ecb09-c616-4ebe-b6ef-ca885108b631"
      },
      "source": [
        "n_inputs"
      ],
      "execution_count": null,
      "outputs": [
        {
          "output_type": "execute_result",
          "data": {
            "text/plain": [
              "2"
            ]
          },
          "metadata": {
            "tags": []
          },
          "execution_count": 478
        }
      ]
    },
    {
      "cell_type": "code",
      "metadata": {
        "colab": {
          "base_uri": "https://localhost:8080/"
        },
        "id": "hC2MtriEdCth",
        "outputId": "738fba9c-0bb0-4e9d-86a8-ce6878bfd1fe"
      },
      "source": [
        "n_outputs"
      ],
      "execution_count": null,
      "outputs": [
        {
          "output_type": "execute_result",
          "data": {
            "text/plain": [
              "2"
            ]
          },
          "metadata": {
            "tags": []
          },
          "execution_count": 479
        }
      ]
    },
    {
      "cell_type": "markdown",
      "metadata": {
        "id": "geVemrCKV1PA"
      },
      "source": [
        "파라미터 $\\Theta$를 무작위로 초기 설정한다."
      ]
    },
    {
      "cell_type": "code",
      "metadata": {
        "id": "DwEsBO1tV1PA"
      },
      "source": [
        "Theta = np.random.randn(n_inputs, n_outputs)"
      ],
      "execution_count": null,
      "outputs": []
    },
    {
      "cell_type": "markdown",
      "metadata": {
        "id": "Hp6GwpTLV1PA"
      },
      "source": [
        "배치 경사하강법 훈련은 아래 코드를 통해 이루어진다.\n",
        "\n",
        "- `eta = 0.01`: 학습률\n",
        "- `n_iterations = 5001` : 에포크 수\n",
        "- `m = len(X_train)`: 훈련 세트 크기, 즉 훈련 샘플 수\n",
        "- `epsilon = 1e-7`: $\\log$ 값이 항상 계산되도록 더해지는 작은 실수\n",
        "- `logits`: 모든 샘플에 대한 클래스별 점수, 즉 $\\mathbf{X}_{\\textit{train}}\\, \\Theta$\n",
        "- `Y_proba`: 모든 샘플에 대해 계산된 이진분류 확률, 즉 $\\hat P$"
      ]
    },
    {
      "cell_type": "code",
      "metadata": {
        "colab": {
          "base_uri": "https://localhost:8080/"
        },
        "id": "RXAs-EXNV1PA",
        "outputId": "6cb1a782-26c0-4cc5-b8d2-55017f0eb18c"
      },
      "source": [
        "#  배치 경사하강법 구현\n",
        "eta = 0.01\n",
        "n_iterations = 5001\n",
        "m = len(X_train)\n",
        "epsilon = 1e-7\n",
        "\n",
        "for iteration in range(n_iterations):     # 5001번 반복 훈련\n",
        "    logits = X_train.dot(Theta)\n",
        "    Y_proba = sigmoid(logits)\n",
        "    \n",
        "    if iteration % 500 == 0:              # 500 에포크마다 손실(비용) 계산해서 출력\n",
        "        loss = -np.mean(np.sum(Y_train_one_hot * np.log(Y_proba + epsilon), axis=1))\n",
        "        print(iteration, loss)\n",
        "    \n",
        "    error = Y_proba - Y_train_one_hot     # 그레이디언트 계산.\n",
        "    gradients = 1/m * X_train.T.dot(error)\n",
        "    \n",
        "    Theta = Theta - eta * gradients       # 파라미터 업데이트"
      ],
      "execution_count": null,
      "outputs": [
        {
          "output_type": "stream",
          "text": [
            "0 0.6216585388989472\n",
            "500 0.5358155407854331\n",
            "1000 0.46868915858417054\n",
            "1500 0.4228110723139094\n",
            "2000 0.389997119276909\n",
            "2500 0.36532453055572167\n",
            "3000 0.34600634309210915\n",
            "3500 0.33038385603797926\n",
            "4000 0.3174181616594949\n",
            "4500 0.3064286658965357\n",
            "5000 0.2969519170535297\n"
          ],
          "name": "stdout"
        }
      ]
    },
    {
      "cell_type": "markdown",
      "metadata": {
        "id": "2AVeY5WMV1PA"
      },
      "source": [
        "학습된 파라미터는 다음과 같다."
      ]
    },
    {
      "cell_type": "code",
      "metadata": {
        "colab": {
          "base_uri": "https://localhost:8080/"
        },
        "id": "2WJfmPDkV1PA",
        "outputId": "9b2ce768-579b-4576-f0bc-6fee01f5dd1a"
      },
      "source": [
        "Theta"
      ],
      "execution_count": null,
      "outputs": [
        {
          "output_type": "execute_result",
          "data": {
            "text/plain": [
              "array([[ 3.49367474, -3.54330311],\n",
              "       [-2.15880998,  2.18878276]])"
            ]
          },
          "metadata": {
            "tags": []
          },
          "execution_count": 482
        }
      ]
    },
    {
      "cell_type": "markdown",
      "metadata": {
        "id": "IKPW8baDV1PB"
      },
      "source": [
        "검증 세트에 대한 예측과 정확도는 다음과 같다.\n",
        "`logits`, `Y_proba`를 검증 세트인 `X_valid`를 이용하여 계산한다.\n",
        "예측 클래스는 `Y_proba`에서 가장 큰 값을 갖는 인덱스로 선택한다."
      ]
    },
    {
      "cell_type": "code",
      "metadata": {
        "colab": {
          "base_uri": "https://localhost:8080/"
        },
        "id": "pI3SlMDoV1PB",
        "outputId": "04307711-fa21-41e9-9880-7ed660f13d07"
      },
      "source": [
        "logits = X_valid.dot(Theta)              \n",
        "Y_proba = sigmoid(logits)\n",
        "y_predict = np.argmax(Y_proba, axis=1)          # 가장 높은 확률을 갖는 클래스 선택\n",
        "\n",
        "accuracy_score = np.mean(y_predict == y_valid)  # 정확도 계산\n",
        "accuracy_score"
      ],
      "execution_count": null,
      "outputs": [
        {
          "output_type": "execute_result",
          "data": {
            "text/plain": [
              "0.9666666666666667"
            ]
          },
          "metadata": {
            "tags": []
          },
          "execution_count": 483
        }
      ]
    },
    {
      "cell_type": "markdown",
      "metadata": {
        "id": "S0VWoSSZV1PB"
      },
      "source": [
        "### __단계 6: 규제가 추가된 경사하강법 활용 훈련__ "
      ]
    },
    {
      "cell_type": "markdown",
      "metadata": {
        "id": "kT6QCTpUV1PB"
      },
      "source": [
        "alpha = 규제 하이퍼파라미터"
      ]
    },
    {
      "cell_type": "code",
      "metadata": {
        "colab": {
          "base_uri": "https://localhost:8080/"
        },
        "id": "n25ySUz2V1PC",
        "outputId": "6e78d46d-be7f-4f7f-964d-4c39f53f1b7a"
      },
      "source": [
        "eta = 0.1\n",
        "n_iterations = 5001\n",
        "m = len(X_train)\n",
        "epsilon = 1e-7\n",
        "alpha = 0.1   # 규제 하이퍼파라미터\n",
        "\n",
        "Theta = np.random.randn(n_inputs, n_outputs)  # 파라미터 새로 초기화\n",
        "\n",
        "for iteration in range(n_iterations):\n",
        "    logits = X_train.dot(Theta)\n",
        "    Y_proba = sigmoid(logits)\n",
        "    \n",
        "    if iteration % 500 == 0:\n",
        "        xentropy_loss = -np.mean(np.sum(Y_train_one_hot * np.log(Y_proba + epsilon), axis=1))\n",
        "        l2_loss = 1/2 * np.sum(np.square(Theta[1:]))  # 편향은 규제에서 제외\n",
        "        loss = xentropy_loss + alpha * l2_loss        # l2 규제가 추가된 손실\n",
        "        print(iteration, loss)\n",
        "    \n",
        "    error = Y_proba - Y_train_one_hot\n",
        "    l2_loss_gradients = np.r_[np.zeros([1, n_outputs]), alpha * Theta[1:]]   # l2 규제 그레이디언트\n",
        "    gradients = 1/m * X_train.T.dot(error) + l2_loss_gradients\n",
        "    \n",
        "    Theta = Theta - eta * gradients"
      ],
      "execution_count": null,
      "outputs": [
        {
          "output_type": "stream",
          "text": [
            "0 0.7162610260856582\n",
            "500 0.5424422902989774\n",
            "1000 0.5489288755349917\n",
            "1500 0.549640024455795\n",
            "2000 0.5497072521674562\n",
            "2500 0.5497135348935831\n",
            "3000 0.5497141214229124\n",
            "3500 0.5497141761734805\n",
            "4000 0.5497141812842178\n",
            "4500 0.5497141817612832\n",
            "5000 0.5497141818058153\n"
          ],
          "name": "stdout"
        }
      ]
    },
    {
      "cell_type": "code",
      "metadata": {
        "colab": {
          "base_uri": "https://localhost:8080/"
        },
        "id": "60a7_lnMV1PC",
        "outputId": "775340a1-8083-4568-b9ea-340a213a30f3"
      },
      "source": [
        "logits = X_valid.dot(Theta)\n",
        "Y_proba = sigmoid(logits)\n",
        "y_predict = np.argmax(Y_proba, axis=1)\n",
        "\n",
        "accuracy_score = np.mean(y_predict == y_valid)\n",
        "accuracy_score"
      ],
      "execution_count": null,
      "outputs": [
        {
          "output_type": "execute_result",
          "data": {
            "text/plain": [
              "0.9"
            ]
          },
          "metadata": {
            "tags": []
          },
          "execution_count": 485
        }
      ]
    },
    {
      "cell_type": "markdown",
      "metadata": {
        "id": "4xp_2ItnCbIn"
      },
      "source": [
        "규제를 적용하니 정확도가 더 떨어졌다\n",
        "\n",
        "규제를 적용하기 전보다 정확도가 떨어졌으니 규제를 약화시켜야 한다."
      ]
    },
    {
      "cell_type": "markdown",
      "metadata": {
        "id": "TGAJw899V1PC"
      },
      "source": [
        "### __단계 7: 조기 종료 추가__"
      ]
    },
    {
      "cell_type": "markdown",
      "metadata": {
        "id": "3xnlSYfJV1PC"
      },
      "source": [
        "위 규제가 사용된 모델의 훈련 과정에서\n",
        "매 에포크마다 검증 세트에 대한 손실을 계산하여 오차가 줄어들다가 증가하기 시작할 때 멈추도록 한다.\n",
        "\n",
        "이전 단계에서 규제를 적용하였을때 정확도가 떨어졌으니 규제를 0.01로 약하게 정하였다."
      ]
    },
    {
      "cell_type": "code",
      "metadata": {
        "colab": {
          "base_uri": "https://localhost:8080/"
        },
        "id": "qZbQhBOLV1PD",
        "outputId": "b8edff1a-2c81-447e-e306-7e4de30fc138"
      },
      "source": [
        "eta = 0.1 \n",
        "n_iterations = 5001\n",
        "m = len(X_train)\n",
        "epsilon = 1e-7\n",
        "alpha = 0.01              # 규제 하이퍼파라미터\n",
        "best_loss = np.infty   # 최소 손실값 기억 변수\n",
        "\n",
        "Theta = np.random.randn(n_inputs, n_outputs)  # 파라미터 새로 초기화\n",
        "\n",
        "for iteration in range(n_iterations):\n",
        "    # 훈련 및 손실 계산\n",
        "    logits = X_train.dot(Theta)\n",
        "    Y_proba = sigmoid(logits)\n",
        "    error = Y_proba - Y_train_one_hot\n",
        "    gradients = 1/m * X_train.T.dot(error) + np.r_[np.zeros([1, n_outputs]), alpha * Theta[1:]]\n",
        "    Theta = Theta - eta * gradients\n",
        "\n",
        "    # 검증 세트에 대한 손실 계산\n",
        "    logits = X_valid.dot(Theta)\n",
        "    Y_proba = sigmoid(logits)\n",
        "    xentropy_loss = -np.mean(np.sum(Y_valid_one_hot * np.log(Y_proba + epsilon), axis=1))\n",
        "    l2_loss = 1/2 * np.sum(np.square(Theta[1:]))\n",
        "    loss = xentropy_loss + alpha * l2_loss\n",
        "    \n",
        "    # 500 에포크마다 검증 세트에 대한 손실 출력\n",
        "    if iteration % 500 == 0:\n",
        "        print(iteration, loss)\n",
        "        \n",
        "    # 에포크마다 최소 손실값 업데이트\n",
        "    if loss < best_loss:\n",
        "        best_loss = loss\n",
        "    else:                                      # 에포크가 줄어들지 않으면 바로 훈련 종료\n",
        "        print(iteration - 1, best_loss)        # 종료되지 이전 에포크의 손실값 출력\n",
        "        print(iteration, loss, \"조기 종료!\")\n",
        "        break"
      ],
      "execution_count": null,
      "outputs": [
        {
          "output_type": "stream",
          "text": [
            "0 0.7456585550574103\n",
            "500 0.3388041580108214\n",
            "1000 0.3201659340346895\n",
            "1222 0.3193338407410206\n",
            "1223 0.31933385042637197 조기 종료!\n"
          ],
          "name": "stdout"
        }
      ]
    },
    {
      "cell_type": "code",
      "metadata": {
        "colab": {
          "base_uri": "https://localhost:8080/"
        },
        "id": "NdS2NDqkV1PD",
        "outputId": "429125ae-a2e1-4cfa-c898-1e49811efab6"
      },
      "source": [
        "logits = X_valid.dot(Theta)\n",
        "Y_proba = sigmoid(logits)\n",
        "y_predict = np.argmax(Y_proba, axis=1)\n",
        "\n",
        "accuracy_score = np.mean(y_predict == y_valid)\n",
        "accuracy_score"
      ],
      "execution_count": null,
      "outputs": [
        {
          "output_type": "execute_result",
          "data": {
            "text/plain": [
              "0.9666666666666667"
            ]
          },
          "metadata": {
            "tags": []
          },
          "execution_count": 491
        }
      ]
    },
    {
      "cell_type": "markdown",
      "metadata": {
        "id": "-aaQs4ZqGsvV"
      },
      "source": [
        "규제 적용 전보다 정확도가 더 올라간것을 볼 수 있다."
      ]
    },
    {
      "cell_type": "markdown",
      "metadata": {
        "id": "HX-eAMpLM5go"
      },
      "source": [
        "## 과제 2"
      ]
    },
    {
      "cell_type": "markdown",
      "metadata": {
        "id": "EtKXY8euM5go"
      },
      "source": [
        "과제 1에서 구현된 로지스틱 회귀 알고리즘에 일대다(OvR) 방식을 적용하여 붓꽃에 대한 다중 클래스 분류 알고리즘을 구현하라. 단, 사이킷런을 전혀 사용하지 않아야 한다."
      ]
    },
    {
      "cell_type": "markdown",
      "metadata": {
        "id": "PZrEHilSM5go"
      },
      "source": [
        "## 과제 3"
      ]
    },
    {
      "cell_type": "markdown",
      "metadata": {
        "id": "2fgaERr7M5go"
      },
      "source": [
        "A. 사진을 낮과 밤으로 분류하는 로지스틱 회귀 모델을 구현하라."
      ]
    },
    {
      "cell_type": "markdown",
      "metadata": {
        "id": "of0-mT4CM5go"
      },
      "source": [
        "B. 사진을 낮과 밤, 실내와 실외로 분류하는 다중 레이블 분류 모델을 두 개의 로지스틱 회귀 모델을 이용하여 구현하라."
      ]
    },
    {
      "cell_type": "markdown",
      "metadata": {
        "id": "5rLzbms7M5go"
      },
      "source": [
        "단, 모델 구현에 필요한 사진을 직접 구해야 한다. 최소 100장 이상의 사진 활용할 것."
      ]
    }
  ]
}